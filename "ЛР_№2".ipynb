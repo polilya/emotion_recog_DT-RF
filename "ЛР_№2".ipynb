{
 "cells": [
  {
   "cell_type": "markdown",
   "metadata": {
    "id": "49n6SAO0VINK"
   },
   "source": [
    "#Лабораторная работа №3\n",
    "\n",
    "Решение задачи бинарной классификации с применением МГК, ЛДА и Decidion Tree, Random Forest, AdaBoost"
   ]
  },
  {
   "cell_type": "markdown",
   "metadata": {
    "id": "imEctfx2uZ1n"
   },
   "source": [
    "Бинарная классификация\n",
    "\n",
    "1. Использовать вектор признаков из ЛР№1\n",
    "Далее сформирвоать 3 типа входных данных:\n",
    "* Применить к вектору признаков PCA (из ЛР№1)\n",
    "* Применить к вектору признаков LDA\n",
    "* Применить к вектору признаков PCA (из ЛР№1) и после LDA\n",
    "\n",
    "2. Для каждого типа векторов признакив применить 3 алгоитма классификации и получить метрики классифкации для тестового набора и в режиме кросс-валидации:\n",
    "* DT (визуализировать дерево)\n",
    "* RF\n",
    "* AdaBoost\n",
    "\n",
    "3. Подобрать параметры всех алгоритмов с GridSearch, получить новые значения точности классификации\n",
    "\n",
    "4. Построить графики зависимости точности класификации от изменения 1 паремтра каждого алгоритма\n",
    "\n",
    "5. Написать функцию, которая принимает на вход следующие параметры:\n",
    "- выбранный алгоритм\n",
    "- параметры алгоритма\n",
    "- количестово главных компонет МГК, которые будут использоваться для классификации\n",
    "- будет ли применяться после МГК ЛДА - True или False\n",
    "- будет ли проводиться расчет точности по тестовой выборке или в режиме кросс валидации\n",
    "\n",
    "5a. Проварьировать параметр дерева и построить график зависимости точности от параметра дерева\n",
    "\n",
    "5b. Вывести график зависимости точности классификации DT от количества главных компонент\n",
    "\n"
   ]
  },
  {
   "cell_type": "code",
   "execution_count": 98,
   "metadata": {},
   "outputs": [
    {
     "name": "stdout",
     "output_type": "stream",
     "text": [
      "Requirement already satisfied: sklearn in /Users/polilya/opt/anaconda3/lib/python3.9/site-packages (0.0.post1)\n"
     ]
    }
   ],
   "source": [
    "import os\n",
    "import numpy as np\n",
    "import pandas as pd\n",
    "!pip install sklearn\n",
    "import sklearn\n",
    "from  matplotlib import pyplot as plt"
   ]
  },
  {
   "cell_type": "code",
   "execution_count": 84,
   "metadata": {},
   "outputs": [],
   "source": [
    "sh = pd.read_csv('/Users/polilya/Desktop/маг/python_mag/ЛР1_CV/data_pca_sh.csv', delimiter=',')\n",
    "features = pd.read_csv('/Users/polilya/Desktop/маг/python_mag/ЛР1_CV/featyres.csv', delimiter=',')\n",
    "data_pca_full = pd.read_csv('/Users/polilya/Desktop/маг/python_mag/ЛР1_CV/data_pca_full.csv', delimiter=',')"
   ]
  },
  {
   "cell_type": "raw",
   "metadata": {},
   "source": [
    "\n",
    "data_pca_full = data_pca_full.drop(columns = ['Unnamed: 0'],axis = 1)\n",
    "data_pca_full"
   ]
  },
  {
   "cell_type": "raw",
   "metadata": {},
   "source": [
    "data_pca_full.head(300)"
   ]
  },
  {
   "cell_type": "raw",
   "metadata": {},
   "source": [
    "data_pca_full.iloc[ : , 0:145]"
   ]
  },
  {
   "cell_type": "code",
   "execution_count": 47,
   "metadata": {},
   "outputs": [
    {
     "data": {
      "text/html": [
       "<div>\n",
       "<style scoped>\n",
       "    .dataframe tbody tr th:only-of-type {\n",
       "        vertical-align: middle;\n",
       "    }\n",
       "\n",
       "    .dataframe tbody tr th {\n",
       "        vertical-align: top;\n",
       "    }\n",
       "\n",
       "    .dataframe thead th {\n",
       "        text-align: right;\n",
       "    }\n",
       "</style>\n",
       "<table border=\"1\" class=\"dataframe\">\n",
       "  <thead>\n",
       "    <tr style=\"text-align: right;\">\n",
       "      <th></th>\n",
       "      <th>0</th>\n",
       "      <th>1</th>\n",
       "      <th>2</th>\n",
       "      <th>3</th>\n",
       "      <th>4</th>\n",
       "      <th>5</th>\n",
       "      <th>6</th>\n",
       "      <th>7</th>\n",
       "      <th>8</th>\n",
       "      <th>9</th>\n",
       "      <th>...</th>\n",
       "      <th>36855</th>\n",
       "      <th>36856</th>\n",
       "      <th>36857</th>\n",
       "      <th>36858</th>\n",
       "      <th>36859</th>\n",
       "      <th>36860</th>\n",
       "      <th>36861</th>\n",
       "      <th>36862</th>\n",
       "      <th>36863</th>\n",
       "      <th>label_bool</th>\n",
       "    </tr>\n",
       "  </thead>\n",
       "  <tbody>\n",
       "    <tr>\n",
       "      <th>0</th>\n",
       "      <td>104</td>\n",
       "      <td>84</td>\n",
       "      <td>52</td>\n",
       "      <td>39</td>\n",
       "      <td>32</td>\n",
       "      <td>22</td>\n",
       "      <td>22</td>\n",
       "      <td>23</td>\n",
       "      <td>25</td>\n",
       "      <td>28</td>\n",
       "      <td>...</td>\n",
       "      <td>79</td>\n",
       "      <td>52</td>\n",
       "      <td>43</td>\n",
       "      <td>42</td>\n",
       "      <td>52</td>\n",
       "      <td>55</td>\n",
       "      <td>67</td>\n",
       "      <td>90</td>\n",
       "      <td>98</td>\n",
       "      <td>1</td>\n",
       "    </tr>\n",
       "    <tr>\n",
       "      <th>1</th>\n",
       "      <td>20</td>\n",
       "      <td>36</td>\n",
       "      <td>60</td>\n",
       "      <td>82</td>\n",
       "      <td>95</td>\n",
       "      <td>89</td>\n",
       "      <td>87</td>\n",
       "      <td>84</td>\n",
       "      <td>79</td>\n",
       "      <td>80</td>\n",
       "      <td>...</td>\n",
       "      <td>141</td>\n",
       "      <td>163</td>\n",
       "      <td>166</td>\n",
       "      <td>162</td>\n",
       "      <td>164</td>\n",
       "      <td>165</td>\n",
       "      <td>168</td>\n",
       "      <td>166</td>\n",
       "      <td>166</td>\n",
       "      <td>1</td>\n",
       "    </tr>\n",
       "    <tr>\n",
       "      <th>2</th>\n",
       "      <td>3</td>\n",
       "      <td>3</td>\n",
       "      <td>3</td>\n",
       "      <td>2</td>\n",
       "      <td>24</td>\n",
       "      <td>85</td>\n",
       "      <td>102</td>\n",
       "      <td>67</td>\n",
       "      <td>47</td>\n",
       "      <td>51</td>\n",
       "      <td>...</td>\n",
       "      <td>128</td>\n",
       "      <td>126</td>\n",
       "      <td>101</td>\n",
       "      <td>135</td>\n",
       "      <td>168</td>\n",
       "      <td>185</td>\n",
       "      <td>216</td>\n",
       "      <td>175</td>\n",
       "      <td>0</td>\n",
       "      <td>1</td>\n",
       "    </tr>\n",
       "    <tr>\n",
       "      <th>3</th>\n",
       "      <td>8</td>\n",
       "      <td>23</td>\n",
       "      <td>27</td>\n",
       "      <td>16</td>\n",
       "      <td>17</td>\n",
       "      <td>31</td>\n",
       "      <td>56</td>\n",
       "      <td>80</td>\n",
       "      <td>97</td>\n",
       "      <td>114</td>\n",
       "      <td>...</td>\n",
       "      <td>166</td>\n",
       "      <td>173</td>\n",
       "      <td>186</td>\n",
       "      <td>147</td>\n",
       "      <td>118</td>\n",
       "      <td>102</td>\n",
       "      <td>98</td>\n",
       "      <td>119</td>\n",
       "      <td>108</td>\n",
       "      <td>1</td>\n",
       "    </tr>\n",
       "    <tr>\n",
       "      <th>4</th>\n",
       "      <td>28</td>\n",
       "      <td>56</td>\n",
       "      <td>88</td>\n",
       "      <td>131</td>\n",
       "      <td>164</td>\n",
       "      <td>176</td>\n",
       "      <td>177</td>\n",
       "      <td>173</td>\n",
       "      <td>174</td>\n",
       "      <td>174</td>\n",
       "      <td>...</td>\n",
       "      <td>35</td>\n",
       "      <td>64</td>\n",
       "      <td>112</td>\n",
       "      <td>118</td>\n",
       "      <td>140</td>\n",
       "      <td>118</td>\n",
       "      <td>73</td>\n",
       "      <td>77</td>\n",
       "      <td>83</td>\n",
       "      <td>1</td>\n",
       "    </tr>\n",
       "    <tr>\n",
       "      <th>...</th>\n",
       "      <td>...</td>\n",
       "      <td>...</td>\n",
       "      <td>...</td>\n",
       "      <td>...</td>\n",
       "      <td>...</td>\n",
       "      <td>...</td>\n",
       "      <td>...</td>\n",
       "      <td>...</td>\n",
       "      <td>...</td>\n",
       "      <td>...</td>\n",
       "      <td>...</td>\n",
       "      <td>...</td>\n",
       "      <td>...</td>\n",
       "      <td>...</td>\n",
       "      <td>...</td>\n",
       "      <td>...</td>\n",
       "      <td>...</td>\n",
       "      <td>...</td>\n",
       "      <td>...</td>\n",
       "      <td>...</td>\n",
       "      <td>...</td>\n",
       "    </tr>\n",
       "    <tr>\n",
       "      <th>915</th>\n",
       "      <td>29</td>\n",
       "      <td>71</td>\n",
       "      <td>105</td>\n",
       "      <td>128</td>\n",
       "      <td>145</td>\n",
       "      <td>143</td>\n",
       "      <td>138</td>\n",
       "      <td>131</td>\n",
       "      <td>127</td>\n",
       "      <td>127</td>\n",
       "      <td>...</td>\n",
       "      <td>168</td>\n",
       "      <td>79</td>\n",
       "      <td>1</td>\n",
       "      <td>22</td>\n",
       "      <td>57</td>\n",
       "      <td>66</td>\n",
       "      <td>33</td>\n",
       "      <td>50</td>\n",
       "      <td>58</td>\n",
       "      <td>1</td>\n",
       "    </tr>\n",
       "    <tr>\n",
       "      <th>916</th>\n",
       "      <td>9</td>\n",
       "      <td>12</td>\n",
       "      <td>34</td>\n",
       "      <td>73</td>\n",
       "      <td>97</td>\n",
       "      <td>115</td>\n",
       "      <td>139</td>\n",
       "      <td>149</td>\n",
       "      <td>144</td>\n",
       "      <td>143</td>\n",
       "      <td>...</td>\n",
       "      <td>23</td>\n",
       "      <td>38</td>\n",
       "      <td>75</td>\n",
       "      <td>101</td>\n",
       "      <td>123</td>\n",
       "      <td>129</td>\n",
       "      <td>172</td>\n",
       "      <td>151</td>\n",
       "      <td>130</td>\n",
       "      <td>1</td>\n",
       "    </tr>\n",
       "    <tr>\n",
       "      <th>917</th>\n",
       "      <td>34</td>\n",
       "      <td>64</td>\n",
       "      <td>121</td>\n",
       "      <td>177</td>\n",
       "      <td>204</td>\n",
       "      <td>212</td>\n",
       "      <td>212</td>\n",
       "      <td>217</td>\n",
       "      <td>212</td>\n",
       "      <td>210</td>\n",
       "      <td>...</td>\n",
       "      <td>148</td>\n",
       "      <td>190</td>\n",
       "      <td>249</td>\n",
       "      <td>177</td>\n",
       "      <td>61</td>\n",
       "      <td>38</td>\n",
       "      <td>95</td>\n",
       "      <td>50</td>\n",
       "      <td>84</td>\n",
       "      <td>1</td>\n",
       "    </tr>\n",
       "    <tr>\n",
       "      <th>918</th>\n",
       "      <td>75</td>\n",
       "      <td>92</td>\n",
       "      <td>105</td>\n",
       "      <td>87</td>\n",
       "      <td>82</td>\n",
       "      <td>73</td>\n",
       "      <td>47</td>\n",
       "      <td>38</td>\n",
       "      <td>25</td>\n",
       "      <td>11</td>\n",
       "      <td>...</td>\n",
       "      <td>156</td>\n",
       "      <td>30</td>\n",
       "      <td>0</td>\n",
       "      <td>0</td>\n",
       "      <td>18</td>\n",
       "      <td>56</td>\n",
       "      <td>78</td>\n",
       "      <td>51</td>\n",
       "      <td>53</td>\n",
       "      <td>1</td>\n",
       "    </tr>\n",
       "    <tr>\n",
       "      <th>919</th>\n",
       "      <td>35</td>\n",
       "      <td>25</td>\n",
       "      <td>25</td>\n",
       "      <td>24</td>\n",
       "      <td>21</td>\n",
       "      <td>17</td>\n",
       "      <td>17</td>\n",
       "      <td>24</td>\n",
       "      <td>24</td>\n",
       "      <td>41</td>\n",
       "      <td>...</td>\n",
       "      <td>71</td>\n",
       "      <td>54</td>\n",
       "      <td>90</td>\n",
       "      <td>97</td>\n",
       "      <td>109</td>\n",
       "      <td>118</td>\n",
       "      <td>115</td>\n",
       "      <td>114</td>\n",
       "      <td>123</td>\n",
       "      <td>1</td>\n",
       "    </tr>\n",
       "  </tbody>\n",
       "</table>\n",
       "<p>920 rows × 36865 columns</p>\n",
       "</div>"
      ],
      "text/plain": [
       "       0   1    2    3    4    5    6    7    8    9  ...  36855  36856  \\\n",
       "0    104  84   52   39   32   22   22   23   25   28  ...     79     52   \n",
       "1     20  36   60   82   95   89   87   84   79   80  ...    141    163   \n",
       "2      3   3    3    2   24   85  102   67   47   51  ...    128    126   \n",
       "3      8  23   27   16   17   31   56   80   97  114  ...    166    173   \n",
       "4     28  56   88  131  164  176  177  173  174  174  ...     35     64   \n",
       "..   ...  ..  ...  ...  ...  ...  ...  ...  ...  ...  ...    ...    ...   \n",
       "915   29  71  105  128  145  143  138  131  127  127  ...    168     79   \n",
       "916    9  12   34   73   97  115  139  149  144  143  ...     23     38   \n",
       "917   34  64  121  177  204  212  212  217  212  210  ...    148    190   \n",
       "918   75  92  105   87   82   73   47   38   25   11  ...    156     30   \n",
       "919   35  25   25   24   21   17   17   24   24   41  ...     71     54   \n",
       "\n",
       "     36857  36858  36859  36860  36861  36862  36863  label_bool  \n",
       "0       43     42     52     55     67     90     98           1  \n",
       "1      166    162    164    165    168    166    166           1  \n",
       "2      101    135    168    185    216    175      0           1  \n",
       "3      186    147    118    102     98    119    108           1  \n",
       "4      112    118    140    118     73     77     83           1  \n",
       "..     ...    ...    ...    ...    ...    ...    ...         ...  \n",
       "915      1     22     57     66     33     50     58           1  \n",
       "916     75    101    123    129    172    151    130           1  \n",
       "917    249    177     61     38     95     50     84           1  \n",
       "918      0      0     18     56     78     51     53           1  \n",
       "919     90     97    109    118    115    114    123           1  \n",
       "\n",
       "[920 rows x 36865 columns]"
      ]
     },
     "execution_count": 47,
     "metadata": {},
     "output_type": "execute_result"
    }
   ],
   "source": [
    "#все данные для булевого анализа\n",
    "\n",
    "\n",
    "\n",
    "\n",
    "\n",
    "\n",
    "\n",
    "\n",
    "\n",
    "\n",
    "features_l = features.join(data_pca_full[\"label_bool\"], rsuffix='_right') \n",
    "features_l\n",
    "features_l = features_l.drop(columns = ['Unnamed: 0'],axis = 1)\n",
    "features_l"
   ]
  },
  {
   "cell_type": "raw",
   "metadata": {},
   "source": [
    "from sklearn.discriminant_analysis import LinearDiscriminantAnalysis as LDA\n",
    "\n",
    "\n",
    "\n",
    "X = np.array([[-1, -1, 7 ], [-2, -1,0], [-3, -2,0], [1, 1,7], [2, 1,7], [3, 2,7]])\n",
    "y = np.array([1, 1, 1, 2, 2, 2])\n",
    "clf = LDA()\n",
    "clf.fit(X, y)\n",
    "\n",
    "\n",
    "print(clf.predict([[2, 1, 0]]))\n"
   ]
  },
  {
   "cell_type": "code",
   "execution_count": 57,
   "metadata": {},
   "outputs": [],
   "source": [
    "from sklearn.preprocessing import LabelEncoder\n",
    "le = LabelEncoder()\n",
    "y = le.fit_transform(features_l['label_bool'])\n",
    "\n",
    "from sklearn.discriminant_analysis import LinearDiscriminantAnalysis\n",
    "lda = LinearDiscriminantAnalysis()\n",
    "X_lda = lda.fit_transform(features_l.iloc[:, 0:36864], y)\n"
   ]
  },
  {
   "cell_type": "code",
   "execution_count": 72,
   "metadata": {},
   "outputs": [],
   "source": [
    "#lda.explained_variance_ratio_\n"
   ]
  },
  {
   "cell_type": "raw",
   "metadata": {},
   "source": [
    "plt.xlabel('LD1')\n",
    "plt.ylabel('LD2')\n",
    "plt.scatter(\n",
    "    X_lda[:,0],\n",
    "    X_lda[:,1],\n",
    "    c=y,\n",
    "    cmap='rainbow',\n",
    "    alpha=0.7,\n",
    "    edgecolors='b'\n",
    ")"
   ]
  },
  {
   "cell_type": "code",
   "execution_count": null,
   "metadata": {},
   "outputs": [],
   "source": [
    "class sklearn.discriminant_analysis.LinearDiscriminantAnalysis(solver='svd', \n",
    "                                                               shrinkage=None, priors=None,\n",
    "                                                               n_components=None, store_covariance=False, \n",
    "                                                               tol=0.0001, covariance_estimator=None)"
   ]
  },
  {
   "cell_type": "code",
   "execution_count": null,
   "metadata": {},
   "outputs": [],
   "source": []
  },
  {
   "cell_type": "code",
   "execution_count": 66,
   "metadata": {},
   "outputs": [],
   "source": [
    "from sklearn.model_selection import train_test_split\n",
    "from sklearn.model_selection import RepeatedStratifiedKFold\n",
    "from sklearn.model_selection import cross_val_score\n",
    "from sklearn.discriminant_analysis import LinearDiscriminantAnalysis \n",
    "from sklearn import datasets\n",
    "import matplotlib.pyplot as plt\n",
    "import pandas as pd\n",
    "import numpy as np"
   ]
  },
  {
   "cell_type": "markdown",
   "metadata": {},
   "source": [
    "лда для данных без пца\n",
    "\n",
    "\n",
    "\n",
    "\n",
    "\n",
    "\n",
    "\n",
    "\n",
    "\n",
    "\n"
   ]
  },
  {
   "cell_type": "code",
   "execution_count": 73,
   "metadata": {
    "tags": []
   },
   "outputs": [
    {
     "data": {
      "text/plain": [
       "LinearDiscriminantAnalysis()"
      ]
     },
     "execution_count": 73,
     "metadata": {},
     "output_type": "execute_result"
    }
   ],
   "source": [
    "#define predictor and response variables\n",
    "X = features_l.iloc[:, 0:36863]\n",
    "y = data_pca_full[\"label_bool\"]\n",
    "\n",
    "#Fit the LDA model\n",
    "model = LinearDiscriminantAnalysis()\n",
    "model.fit(X, y)"
   ]
  },
  {
   "cell_type": "code",
   "execution_count": 74,
   "metadata": {},
   "outputs": [
    {
     "name": "stdout",
     "output_type": "stream",
     "text": [
      "0.6557971014492754\n"
     ]
    }
   ],
   "source": [
    "#Define method to evaluate model\n",
    "cv = RepeatedStratifiedKFold(n_splits=10, n_repeats=3, random_state=1)\n",
    "\n",
    "#evaluate model\n",
    "scores = cross_val_score(model, X, y, scoring='accuracy', cv=cv, n_jobs=-1)\n",
    "print(np.mean(scores))   \n",
    "\n"
   ]
  },
  {
   "cell_type": "code",
   "execution_count": null,
   "metadata": {},
   "outputs": [],
   "source": []
  },
  {
   "cell_type": "code",
   "execution_count": 194,
   "metadata": {},
   "outputs": [
    {
     "data": {
      "image/png": "[encoded data removed]",
      "text/plain": [
       "<Figure size 432x288 with 1 Axes>"
      ]
     },
     "metadata": {
      "needs_background": "light"
     },
     "output_type": "display_data"
    }
   ],
   "source": [
    "#define data to plot\n",
    "X = features_l.iloc[:, 0:36863]\n",
    "y = data_pca_full[\"label_bool\"]\n",
    "\n",
    "#model = LinearDiscriminantAnalysis(n_components=5)\n",
    "model = LinearDiscriminantAnalysis(n_components=1)\n",
    "data_plot = model.fit(X, y).transform(X)\n",
    "target_names = [\"с эмоц\",\"без эмоц\"]\n",
    "\n",
    "#create LDA plot\n",
    "plt.figure()\n",
    "colors = ['red', 'green']\n",
    "lw = 2\n",
    "for color, i, target_name in zip(colors, [0, 1], target_names):\n",
    "    plt.scatter(data_plot[y == i, 0], data_plot[y == i, 0], alpha=.8, color=color,\n",
    "                label=target_name)\n",
    "\n",
    "#add legend to plot\n",
    "plt.legend(loc='best', shadow=False, scatterpoints=1)\n",
    "\n",
    "#display LDA plot\n",
    "plt.show()"
   ]
  },
  {
   "cell_type": "code",
   "execution_count": 184,
   "metadata": {},
   "outputs": [
    {
     "data": {
      "image/png": "[encoded data removed]",
      "text/plain": [
       "<Figure size 432x288 with 1 Axes>"
      ]
     },
     "metadata": {
      "needs_background": "light"
     },
     "output_type": "display_data"
    }
   ],
   "source": [
    "for color, i, target_name in zip(colors, [0, 1], target_names):\n",
    "    plt.hist(data_plot[y == i, 0],bins=40,\n",
    "                label=target_name,stacked=True, alpha = 0.5 )\n",
    "    \n",
    "#add legend to plot\n",
    "plt.legend(loc='best', shadow=False, scatterpoints=1)\n",
    "\n",
    "#display LDA plot\n",
    "plt.show()"
   ]
  },
  {
   "cell_type": "markdown",
   "metadata": {},
   "source": [
    "дла для данных, прошедших пца"
   ]
  },
  {
   "cell_type": "code",
   "execution_count": 181,
   "metadata": {
    "tags": []
   },
   "outputs": [
    {
     "data": {
      "text/plain": [
       "LinearDiscriminantAnalysis()"
      ]
     },
     "execution_count": 181,
     "metadata": {},
     "output_type": "execute_result"
    }
   ],
   "source": [
    "#define predictor and response variables\n",
    "X = data_pca_full.iloc[:, 0:145]\n",
    "y = data_pca_full[\"label\"]\n",
    "\n",
    "\n",
    "#print (X)\n",
    "#Fit the LDA model\n",
    "model_pca_lda1 = LinearDiscriminantAnalysis()\n",
    "model_pca_lda1.fit(X, y)"
   ]
  },
  {
   "cell_type": "code",
   "execution_count": 182,
   "metadata": {},
   "outputs": [
    {
     "name": "stdout",
     "output_type": "stream",
     "text": [
      "0.563768115942029\n"
     ]
    }
   ],
   "source": [
    "#Define method to evaluate model\n",
    "cv = RepeatedStratifiedKFold(n_splits=10, n_repeats=3, random_state=1)\n",
    "\n",
    "#evaluate model\n",
    "scores = cross_val_score(model_pca_lda1, X, y, scoring='accuracy', cv=cv, n_jobs=-1)\n",
    "print(np.mean(scores))   "
   ]
  },
  {
   "cell_type": "code",
   "execution_count": 159,
   "metadata": {},
   "outputs": [
    {
     "name": "stdout",
     "output_type": "stream",
     "text": [
      "(920, 1)\n"
     ]
    }
   ],
   "source": []
  },
  {
   "cell_type": "code",
   "execution_count": 165,
   "metadata": {},
   "outputs": [
    {
     "data": {
      "image/png": "[encoded data removed]",
      "text/plain": [
       "<Figure size 432x288 with 1 Axes>"
      ]
     },
     "metadata": {
      "needs_background": "light"
     },
     "output_type": "display_data"
    }
   ],
   "source": [
    "#define data to plot\n",
    "X = data_pca_full.iloc[:, 0:145]\n",
    "y = data_pca_full[\"label\"]\n",
    "model_pca_lda1 = LinearDiscriminantAnalysis()\n",
    "data_plot = model_pca_lda1.fit(X, y).transform(X)\n",
    "#target_names = [\"без эмоций\", \"c эмоций\"]\n",
    "target_names = ['0','1','2','3','4','5','6','7']\n",
    "\n",
    "#create LDA plot\n",
    "plt.figure()\n",
    "colors = ['red', 'green','blue', 'black','red', 'green','blue', 'black']\n",
    "lw = 2\n",
    "for color, i, target_name in zip(colors, [0, 1,2,3,4,5,6,7], target_names):\n",
    "    plt.scatter(data_plot[y == i, 0], data_plot[y == i, 1], alpha=.8,\n",
    "                label=target_name)\n",
    "    \n",
    "#for color, i, target_name in zip(colors, [0, 1], target_names):\n",
    "#    plt.scatter(data_plot[y == i, 0], data_plot[y == i, 0], alpha=.8,\n",
    "#                label=target_name)\n",
    "\n",
    "#add legend to plot\n",
    "plt.legend(loc='best', shadow=False, scatterpoints=1)\n",
    "\n",
    "#display LDA plot\n",
    "plt.show()"
   ]
  },
  {
   "cell_type": "code",
   "execution_count": 166,
   "metadata": {},
   "outputs": [
    {
     "name": "stdout",
     "output_type": "stream",
     "text": [
      "(920, 6)\n"
     ]
    }
   ],
   "source": [
    "print (data_plot.shape)"
   ]
  },
  {
   "cell_type": "code",
   "execution_count": 161,
   "metadata": {},
   "outputs": [
    {
     "name": "stdout",
     "output_type": "stream",
     "text": [
      "0.6880434782608696\n"
     ]
    }
   ],
   "source": [
    "#define predictor and response variables\n",
    "X = data_pca_full.iloc[:, 0:145]\n",
    "y = data_pca_full[\"label_bool\"]\n",
    "\n",
    "#Fit the LDA model\n",
    "model_pca_lda2 = LinearDiscriminantAnalysis()\n",
    "model_pca_lda2.fit(X, y)\n",
    "\n",
    "#Define method to evaluate model\n",
    "cv = RepeatedStratifiedKFold(n_splits=10, n_repeats=3, random_state=1)\n",
    "\n",
    "#evaluate model\n",
    "scores = cross_val_score(model_pca_lda2, X, y, scoring='accuracy', cv=cv, n_jobs=-1)\n",
    "print(np.mean(scores))  "
   ]
  },
  {
   "cell_type": "code",
   "execution_count": 191,
   "metadata": {},
   "outputs": [
    {
     "name": "stdout",
     "output_type": "stream",
     "text": [
      "(920, 145)\n"
     ]
    }
   ],
   "source": [
    "print (X.shape)"
   ]
  },
  {
   "cell_type": "code",
   "execution_count": 196,
   "metadata": {},
   "outputs": [
    {
     "ename": "ValueError",
     "evalue": "n_components cannot be larger than min(n_features, n_classes - 1).",
     "output_type": "error",
     "traceback": [
      "\u001b[0;31m---------------------------------------------------------------------------\u001b[0m",
      "\u001b[0;31mValueError\u001b[0m                                Traceback (most recent call last)",
      "\u001b[0;32m/var/folders/dy/76wm8jgj50vc8kygzhcz93jw0000gn/T/ipykernel_26241/798121171.py\u001b[0m in \u001b[0;36m<module>\u001b[0;34m\u001b[0m\n\u001b[1;32m      4\u001b[0m \u001b[0;31m#model_pca_lda2 = LinearDiscriminantAnalysis()\u001b[0m\u001b[0;34m\u001b[0m\u001b[0;34m\u001b[0m\u001b[0m\n\u001b[1;32m      5\u001b[0m \u001b[0mmodel_pca_lda2\u001b[0m \u001b[0;34m=\u001b[0m \u001b[0mLinearDiscriminantAnalysis\u001b[0m\u001b[0;34m(\u001b[0m\u001b[0mn_components\u001b[0m\u001b[0;34m=\u001b[0m\u001b[0;36m2\u001b[0m\u001b[0;34m)\u001b[0m\u001b[0;34m\u001b[0m\u001b[0;34m\u001b[0m\u001b[0m\n\u001b[0;32m----> 6\u001b[0;31m \u001b[0mdata_plot\u001b[0m \u001b[0;34m=\u001b[0m \u001b[0mmodel_pca_lda2\u001b[0m\u001b[0;34m.\u001b[0m\u001b[0mfit\u001b[0m\u001b[0;34m(\u001b[0m\u001b[0mX\u001b[0m\u001b[0;34m,\u001b[0m \u001b[0my\u001b[0m\u001b[0;34m)\u001b[0m\u001b[0;34m.\u001b[0m\u001b[0mtransform\u001b[0m\u001b[0;34m(\u001b[0m\u001b[0mX\u001b[0m\u001b[0;34m)\u001b[0m\u001b[0;34m\u001b[0m\u001b[0;34m\u001b[0m\u001b[0m\n\u001b[0m\u001b[1;32m      7\u001b[0m \u001b[0;31m#target_names = [\"без эмоций\", \"c эмоций\"]\u001b[0m\u001b[0;34m\u001b[0m\u001b[0;34m\u001b[0m\u001b[0m\n\u001b[1;32m      8\u001b[0m \u001b[0mtarget_names\u001b[0m \u001b[0;34m=\u001b[0m \u001b[0;34m[\u001b[0m\u001b[0;34m'0'\u001b[0m\u001b[0;34m,\u001b[0m\u001b[0;34m'1'\u001b[0m\u001b[0;34m]\u001b[0m\u001b[0;34m\u001b[0m\u001b[0;34m\u001b[0m\u001b[0m\n",
      "\u001b[0;32m~/opt/anaconda3/lib/python3.9/site-packages/sklearn/discriminant_analysis.py\u001b[0m in \u001b[0;36mfit\u001b[0;34m(self, X, y)\u001b[0m\n\u001b[1;32m    574\u001b[0m         \u001b[0;32melse\u001b[0m\u001b[0;34m:\u001b[0m\u001b[0;34m\u001b[0m\u001b[0;34m\u001b[0m\u001b[0m\n\u001b[1;32m    575\u001b[0m             \u001b[0;32mif\u001b[0m \u001b[0mself\u001b[0m\u001b[0;34m.\u001b[0m\u001b[0mn_components\u001b[0m \u001b[0;34m>\u001b[0m \u001b[0mmax_components\u001b[0m\u001b[0;34m:\u001b[0m\u001b[0;34m\u001b[0m\u001b[0;34m\u001b[0m\u001b[0m\n\u001b[0;32m--> 576\u001b[0;31m                 raise ValueError(\n\u001b[0m\u001b[1;32m    577\u001b[0m                     \u001b[0;34m\"n_components cannot be larger than min(n_features, n_classes - 1).\"\u001b[0m\u001b[0;34m\u001b[0m\u001b[0;34m\u001b[0m\u001b[0m\n\u001b[1;32m    578\u001b[0m                 )\n",
      "\u001b[0;31mValueError\u001b[0m: n_components cannot be larger than min(n_features, n_classes - 1)."
     ]
    }
   ],
   "source": [
    "#define data to plot\n",
    "X = data_pca_full.iloc[:, 0:145]\n",
    "y = data_pca_full[\"label_bool\"]\n",
    "#model_pca_lda2 = LinearDiscriminantAnalysis()\n",
    "model_pca_lda2 = LinearDiscriminantAnalysis(n_components=2)\n",
    "data_plot = model_pca_lda2.fit(X, y).transform(X)\n",
    "X_train = lda.fit_transform(X_train, y_train)\n",
    "#target_names = [\"без эмоций\", \"c эмоций\"]\n",
    "target_names = ['0','1']\n",
    "\n",
    "#create LDA plot\n",
    "plt.figure()\n",
    "colors = ['red', 'green','blue', 'black','red', 'green','blue', 'black']\n",
    "lw = 2\n",
    "for color, i, target_name in zip(colors, [0, 1], target_names):\n",
    "    plt.scatter(data_plot[y == i, 0], data_plot[y == i, 1], alpha=.8,\n",
    "                label=target_name)\n",
    "    \n",
    "#for color, i, target_name in zip(colors, [0, 1], target_names):\n",
    "#    plt.scatter(data_plot[y == i, 0], data_plot[y == i, 0], alpha=.8,\n",
    "#                label=target_name)\n",
    "\n",
    "#add legend to plot\n",
    "plt.legend(loc='best', shadow=False, scatterpoints=1)\n",
    "\n",
    "#display LDA plot\n",
    "plt.show()"
   ]
  },
  {
   "cell_type": "code",
   "execution_count": 200,
   "metadata": {},
   "outputs": [
    {
     "name": "stdout",
     "output_type": "stream",
     "text": [
      "Mean Accuracy: 0.891 (0.019)\n",
      "[0.87724551 0.88888889 0.90690691 0.9011976  0.91291291 0.85585586]\n"
     ]
    }
   ],
   "source": [
    "# evaluate a lda model on the dataset\n",
    "from numpy import mean\n",
    "from numpy import std\n",
    "from sklearn.datasets import make_classification\n",
    "from sklearn.model_selection import cross_val_score\n",
    "from sklearn.model_selection import RepeatedStratifiedKFold\n",
    "from sklearn.discriminant_analysis import LinearDiscriminantAnalysis\n",
    "# define dataset\n",
    "X, y = make_classification(n_samples=1000, n_features=10, n_informative=10, n_redundant=0, random_state=1)\n",
    "# define model\n",
    "model = LinearDiscriminantAnalysis()\n",
    "data_plot = model.fit(X, y).transform(X)\n",
    "data_plot = model.fit(X, y).transform(X)\n",
    "# define model evaluation method\n",
    "cv = RepeatedStratifiedKFold(n_splits=3, n_repeats=2, random_state=1)\n",
    "# evaluate model\n",
    "scores = cross_val_score(model, X, y, scoring='accuracy', cv=cv, n_jobs=-1)\n",
    "# summarize result\n",
    "print('Mean Accuracy: %.3f (%.3f)' % (mean(scores), std(scores)))\n",
    "#print (data_plot)\n",
    "print (scores)"
   ]
  },
  {
   "cell_type": "code",
   "execution_count": 168,
   "metadata": {},
   "outputs": [
    {
     "name": "stdout",
     "output_type": "stream",
     "text": [
      "(920, 1)\n"
     ]
    }
   ],
   "source": [
    "print (data_plot.shape)"
   ]
  },
  {
   "cell_type": "code",
   "execution_count": 178,
   "metadata": {},
   "outputs": [
    {
     "data": {
      "image/png": "[encoded data removed]",
      "text/plain": [
       "<Figure size 432x288 with 1 Axes>"
      ]
     },
     "metadata": {
      "needs_background": "light"
     },
     "output_type": "display_data"
    }
   ],
   "source": [
    "for color, i, target_name in zip(colors, [0, 1], target_names):\n",
    "    plt.hist(data_plot[y == i, 0],bins=40,\n",
    "                label=target_name,stacked=True, alpha = 0.5 )\n",
    "    \n",
    "#add legend to plot\n",
    "plt.legend(loc='best', shadow=False, scatterpoints=1)\n",
    "\n",
    "#display LDA plot\n",
    "plt.show()"
   ]
  },
  {
   "cell_type": "markdown",
   "metadata": {},
   "source": [
    "Бинарная классификация\n",
    "\n",
    "Использовать вектор признаков из ЛР№1 Далее сформирвоать 3 типа входных данных:\n",
    "Применить к вектору признаков PCA (из ЛР№1) - есть в лр 1 - визуализировать нельзя\n",
    "Применить к вектору признаков LDA - есть\n",
    "Применить к вектору признаков PCA (из ЛР№1) и после LDA - есть"
   ]
  },
  {
   "cell_type": "markdown",
   "metadata": {},
   "source": [
    "промежуточный вывод\n",
    "сравнивая две гистограммы - очевидно, что разделение просто лда по всем признакам на много заметнее, чем лда после прохождения пца до 144 компонент"
   ]
  },
  {
   "cell_type": "markdown",
   "metadata": {},
   "source": [
    "задание 2\n",
    "\n",
    "\n",
    "Для каждого типа векторов признакив применить 3 алгоитма классификации и получить метрики классифкации для тестового набора и в режиме кросс-валидации:\n",
    "DT (визуализировать дерево)\n",
    "RF\n",
    "AdaBoost"
   ]
  },
  {
   "cell_type": "code",
   "execution_count": 209,
   "metadata": {},
   "outputs": [],
   "source": [
    "from sklearn.decomposition import PCA\n",
    "from sklearn.preprocessing import StandardScaler\n",
    "\n",
    "# Import libraries\n",
    "import pandas as pd\n",
    "import numpy as np\n",
    "import os\n",
    "import seaborn as sns\n",
    "import cv2\n",
    "from  matplotlib import pyplot as plt\n",
    "import matplotlib.image as mpimg\n",
    "%matplotlib inline\n",
    "from tqdm import tqdm\n",
    "from scipy.ndimage.filters import gaussian_filter\n",
    "\n",
    "import PIL.Image\n",
    "import PIL.ImageDraw\n",
    "\n",
    "import collections\n",
    "from matplotlib import pyplot\n",
    "import pylab as pl\n",
    "import glob\n",
    "import zipfile\n",
    "\n",
    "from sklearn.decomposition import PCA\n",
    "from sklearn.discriminant_analysis import LinearDiscriminantAnalysis\n",
    "from sklearn.preprocessing import StandardScaler\n",
    "from sklearn.model_selection import train_test_split\n",
    "from sklearn.metrics import accuracy_score\n",
    "from sklearn import preprocessing\n",
    "from sklearn.model_selection import cross_val_score\n",
    "from sklearn.metrics import confusion_matrix, ConfusionMatrixDisplay\n",
    "from sklearn.metrics import precision_score, \\\n",
    "    recall_score, confusion_matrix, classification_report, \\\n",
    "    accuracy_score, f1_score"
   ]
  },
  {
   "cell_type": "code",
   "execution_count": 210,
   "metadata": {},
   "outputs": [],
   "source": [
    "\n",
    "data_pca_full\n",
    "\n",
    "# данные без нижения размерности\n",
    "Xnopca = features_l.iloc[:, 0:36863]\n",
    "y = data_pca_full[\"label_bool\"]\n",
    "# данные после пца\n",
    "Xpca = data_pca_full.iloc[:, 0:145]\n",
    "y = data_pca_full[\"label_bool\"]\n"
   ]
  },
  {
   "cell_type": "code",
   "execution_count": 236,
   "metadata": {},
   "outputs": [],
   "source": [
    "data_train, data_test, classes_train, classes_test = train_test_split(Xpca, y, test_size = 0.33,  stratify=y, random_state = 3)\n"
   ]
  },
  {
   "cell_type": "code",
   "execution_count": 237,
   "metadata": {},
   "outputs": [
    {
     "name": "stdout",
     "output_type": "stream",
     "text": [
      "Точность модели на обучающей выборке:  0.83\n",
      "Точность модели на тестовой выборке:  0.65\n"
     ]
    },
    {
     "data": {
      "image/png": "[encoded data removed]",
      "text/plain": [
       "<Figure size 216x216 with 2 Axes>"
      ]
     },
     "metadata": {
      "needs_background": "light"
     },
     "output_type": "display_data"
    }
   ],
   "source": [
    "LDA_model = LinearDiscriminantAnalysis()\n",
    "LDA_model.fit(data_train, classes_train)\n",
    "LDA_prediction = LDA_model.predict(data_test)\n",
    "\n",
    "LDA_train_accuracy = LDA_model.score(data_train, classes_train)\n",
    "LDA_test_accuracy = LDA_model.score(data_test, classes_test)\n",
    "print ('Точность модели на обучающей выборке: ', round (LDA_train_accuracy, 2))\n",
    "print ('Точность модели на тестовой выборке: ', round (LDA_test_accuracy, 2))\n",
    "\n",
    "fig, ax = plt.subplots(figsize=(3, 3))\n",
    "disp = ConfusionMatrixDisplay(confusion_matrix(LDA_prediction, classes_test))\n",
    "disp.plot(cmap = 'BuGn', ax=ax);"
   ]
  },
  {
   "cell_type": "code",
   "execution_count": 220,
   "metadata": {},
   "outputs": [],
   "source": [
    "data_train, data_test, classes_train, classes_test = train_test_split(Xnopca, y, test_size = 0.33,  stratify=y, random_state = 1)\n",
    "\n"
   ]
  },
  {
   "cell_type": "code",
   "execution_count": 223,
   "metadata": {},
   "outputs": [
    {
     "name": "stdout",
     "output_type": "stream",
     "text": [
      "Точность модели на обучающей выборке:  0.98\n",
      "Точность модели на тестовой выборке:  0.64\n"
     ]
    },
    {
     "data": {
      "image/png": "[encoded data removed]",
      "text/plain": [
       "<Figure size 216x216 with 2 Axes>"
      ]
     },
     "metadata": {
      "needs_background": "light"
     },
     "output_type": "display_data"
    }
   ],
   "source": [
    "LDA_model = LinearDiscriminantAnalysis()\n",
    "LDA_model.fit(data_train, classes_train)\n",
    "LDA_prediction = LDA_model.predict(data_test)\n",
    "\n",
    "LDA_train_accuracy = LDA_model.score(data_train, classes_train)\n",
    "LDA_test_accuracy = LDA_model.score(data_test, classes_test)\n",
    "print ('Точность модели на обучающей выборке: ', round (LDA_train_accuracy, 2))\n",
    "print ('Точность модели на тестовой выборке: ', round (LDA_test_accuracy, 2))\n",
    "\n",
    "fig, ax = plt.subplots(figsize=(3, 3))\n",
    "disp = ConfusionMatrixDisplay(confusion_matrix(LDA_prediction, classes_test))\n",
    "disp.plot(cmap = 'BuGn', ax=ax);"
   ]
  },
  {
   "cell_type": "raw",
   "metadata": {},
   "source": [
    "задание 2\n",
    "\n",
    "\n",
    "Для каждого типа векторов признакив применить 3 алгоитма классификации и получить метрики классифкации для тестового набора и в режиме кросс-валидации:\n",
    "DT (визуализировать дерево)\n",
    "RF\n",
    "AdaBoost"
   ]
  },
  {
   "cell_type": "code",
   "execution_count": 228,
   "metadata": {},
   "outputs": [],
   "source": [
    "from sklearn.tree import plot_tree\n",
    "from sklearn.metrics import confusion_matrix\n",
    "from sklearn import tree\n",
    "from sklearn.tree import DecisionTreeClassifier\n",
    "from sklearn.model_selection import train_test_split\n",
    "from sklearn.model_selection import GridSearchCV\n",
    "from sklearn.model_selection import cross_val_score\n",
    "from sklearn.ensemble import RandomForestClassifier\n",
    "from sklearn.model_selection import GridSearchCV\n",
    "import random\n",
    "from sklearn.ensemble import AdaBoostClassifier\n",
    "from sklearn.tree import DecisionTreeClassifier\n",
    "from sklearn.datasets import make_gaussian_quantiles\n",
    "from sklearn.datasets import make_classification\n",
    "from sklearn.model_selection import RepeatedStratifiedKFold\n",
    "from sklearn.model_selection import GridSearchCV\n",
    "from sklearn.ensemble import GradientBoostingClassifier\n",
    "from sklearn.neighbors import KNeighborsClassifier\n",
    "from sklearn.naive_bayes import GaussianNB  \n",
    "from sklearn.linear_model import LogisticRegression\n",
    "from sklearn.svm import SVC \n",
    "random.seed(17)"
   ]
  },
  {
   "cell_type": "code",
   "execution_count": null,
   "metadata": {},
   "outputs": [],
   "source": [
    "по всем фичам"
   ]
  },
  {
   "cell_type": "code",
   "execution_count": 232,
   "metadata": {},
   "outputs": [
    {
     "name": "stdout",
     "output_type": "stream",
     "text": [
      "Точность модели на обучающей выборке:  1.0\n",
      "Точность модели на тестовой выборке:  0.63\n"
     ]
    },
    {
     "data": {
      "text/plain": [
       "{'max_depth': 2, 'min_samples_leaf': 1}"
      ]
     },
     "execution_count": 232,
     "metadata": {},
     "output_type": "execute_result"
    },
    {
     "data": {
      "image/png": "[encoded data removed]",
      "text/plain": [
       "<Figure size 576x576 with 2 Axes>"
      ]
     },
     "metadata": {
      "needs_background": "light"
     },
     "output_type": "display_data"
    }
   ],
   "source": [
    "res_test = data_test\n",
    "res_train = data_train\n",
    "\n",
    "\n",
    "\n",
    "DT_model = tree.DecisionTreeClassifier()\n",
    "DT_model.fit(res_train, classes_train)\n",
    "DT_prediction = DT_model.predict(res_test)\n",
    "\n",
    "DT_train_accuracy = DT_model.score(res_train, classes_train)\n",
    "DT_test_accuracy = DT_model.score(res_test, classes_test)\n",
    "print ('Точность модели на обучающей выборке: ', round (DT_train_accuracy, 2))\n",
    "print ('Точность модели на тестовой выборке: ', round (DT_test_accuracy, 2))\n",
    "\n",
    "\n",
    "par = {'max_depth' : range(1, 20), 'min_samples_leaf' : range(1, 10)}\n",
    "search = GridSearchCV(DT_model,par,cv=10)\n",
    "search.fit(res_train, classes_train)\n",
    "search.best_params_"
   ]
  },
  {
   "cell_type": "code",
   "execution_count": 235,
   "metadata": {},
   "outputs": [
    {
     "name": "stdout",
     "output_type": "stream",
     "text": [
      "Точность модели на обучающей выборке:  0.73\n",
      "Точность модели на тестовой выборке:  0.65\n"
     ]
    },
    {
     "data": {
      "image/png": "[encoded data removed]",
      "text/plain": [
       "<Figure size 576x576 with 2 Axes>"
      ]
     },
     "metadata": {
      "needs_background": "light"
     },
     "output_type": "display_data"
    }
   ],
   "source": [
    "DT_model = tree.DecisionTreeClassifier(max_depth = 2, min_samples_leaf = 1)\n",
    "DT_model.fit(res_train, classes_train)\n",
    "DT_prediction = DT_model.predict(res_test)\n",
    "\n",
    "DT_train_accuracy = DT_model.score(res_train, classes_train)\n",
    "DT_test_accuracy = DT_model.score(res_test, classes_test)\n",
    "print ('Точность модели на обучающей выборке: ', round (DT_train_accuracy, 2))\n",
    "print ('Точность модели на тестовой выборке: ', round (DT_test_accuracy, 2))\n",
    "\n",
    "fig, ax = plt.subplots(figsize=(8, 8))\n",
    "disp = ConfusionMatrixDisplay(confusion_matrix(DT_prediction, classes_test))\n",
    "disp.plot(cmap = 'Blues', ax=ax);"
   ]
  },
  {
   "cell_type": "code",
   "execution_count": null,
   "metadata": {},
   "outputs": [],
   "source": [
    "по пцашным данным"
   ]
  },
  {
   "cell_type": "code",
   "execution_count": 238,
   "metadata": {},
   "outputs": [
    {
     "name": "stdout",
     "output_type": "stream",
     "text": [
      "Точность модели на обучающей выборке:  1.0\n",
      "Точность модели на тестовой выборке:  0.62\n"
     ]
    },
    {
     "data": {
      "text/plain": [
       "{'max_depth': 2, 'min_samples_leaf': 1}"
      ]
     },
     "execution_count": 238,
     "metadata": {},
     "output_type": "execute_result"
    }
   ],
   "source": [
    "res_test = data_test\n",
    "res_train = data_train\n",
    "\n",
    "\n",
    "\n",
    "DT_model = tree.DecisionTreeClassifier()\n",
    "DT_model.fit(res_train, classes_train)\n",
    "DT_prediction = DT_model.predict(res_test)\n",
    "\n",
    "DT_train_accuracy = DT_model.score(res_train, classes_train)\n",
    "DT_test_accuracy = DT_model.score(res_test, classes_test)\n",
    "print ('Точность модели на обучающей выборке: ', round (DT_train_accuracy, 2))\n",
    "print ('Точность модели на тестовой выборке: ', round (DT_test_accuracy, 2))\n",
    "\n",
    "\n",
    "par = {'max_depth' : range(1, 20), 'min_samples_leaf' : range(1, 10)}\n",
    "search = GridSearchCV(DT_model,par,cv=10)\n",
    "search.fit(res_train, classes_train)\n",
    "search.best_params_"
   ]
  },
  {
   "cell_type": "raw",
   "metadata": {},
   "source": [
    "делаю рендомфорест на пцашных данных"
   ]
  },
  {
   "cell_type": "code",
   "execution_count": 239,
   "metadata": {},
   "outputs": [],
   "source": [
    "# данные после пца\n",
    "Xpca = data_pca_full.iloc[:, 0:145]\n",
    "y = data_pca_full[\"label_bool\"]\n"
   ]
  },
  {
   "cell_type": "code",
   "execution_count": 240,
   "metadata": {},
   "outputs": [
    {
     "data": {
      "text/plain": [
       "RandomForestClassifier(n_estimators=50, random_state=44)"
      ]
     },
     "execution_count": 240,
     "metadata": {},
     "output_type": "execute_result"
    }
   ],
   "source": [
    "from sklearn.model_selection import train_test_split\n",
    "X_train, X_test, y_train, y_test = train_test_split(Xpca, y, test_size=0.3, random_state=44)\n",
    "from sklearn.ensemble import RandomForestClassifier\n",
    "rf_model = RandomForestClassifier(n_estimators=50, max_features=\"auto\", random_state=44)\n",
    "rf_model.fit(X_train, y_train)"
   ]
  },
  {
   "cell_type": "code",
   "execution_count": 241,
   "metadata": {},
   "outputs": [
    {
     "data": {
      "text/plain": [
       "array([0, 0, 0, 0, 0, 0, 0, 0, 0, 0, 0, 0, 0, 0, 0, 0, 0, 0, 0, 0, 0, 0,\n",
       "       0, 0, 0, 0, 0, 0, 0, 0, 1, 0, 0, 1, 1, 0, 1, 0, 0, 0, 0, 0, 0, 0,\n",
       "       0, 1, 0, 0, 0, 0, 0, 0, 0, 0, 0, 0, 0, 0, 0, 0, 0, 0, 0, 0, 1, 0,\n",
       "       0, 0, 1, 1, 0, 0, 1, 0, 1, 0, 0, 0, 0, 0, 0, 1, 1, 0, 0, 0, 0, 0,\n",
       "       0, 0, 0, 0, 0, 1, 0, 1, 0, 0, 0, 0, 0, 0, 1, 0, 0, 0, 0, 0, 0, 0,\n",
       "       0, 0, 0, 0, 0, 0, 0, 0, 0, 0, 0, 0, 0, 0, 0, 0, 0, 0, 0, 0, 0, 0,\n",
       "       0, 0, 0, 0, 0, 0, 0, 0, 0, 0, 0, 0, 0, 0, 0, 0, 0, 0, 1, 0, 1, 0,\n",
       "       1, 0, 0, 0, 0, 0, 0, 0, 0, 0, 0, 0, 0, 0, 1, 1, 0, 1, 1, 0, 0, 0,\n",
       "       0, 0, 0, 0, 0, 1, 0, 0, 0, 0, 0, 0, 0, 0, 0, 0, 0, 0, 0, 0, 0, 0,\n",
       "       0, 0, 0, 0, 0, 0, 0, 0, 0, 0, 0, 0, 0, 0, 0, 0, 0, 1, 0, 0, 0, 0,\n",
       "       1, 0, 0, 0, 0, 0, 0, 0, 0, 0, 0, 0, 0, 0, 0, 0, 0, 0, 0, 0, 0, 0,\n",
       "       1, 0, 1, 0, 1, 0, 0, 0, 0, 0, 0, 0, 0, 0, 0, 0, 0, 0, 0, 0, 0, 0,\n",
       "       0, 0, 1, 0, 0, 0, 0, 0, 0, 1, 1, 0])"
      ]
     },
     "execution_count": 241,
     "metadata": {},
     "output_type": "execute_result"
    }
   ],
   "source": [
    "predictions = rf_model.predict(X_test)\n",
    "predictions"
   ]
  },
  {
   "cell_type": "code",
   "execution_count": 243,
   "metadata": {},
   "outputs": [
    {
     "data": {
      "text/plain": [
       "137    1\n",
       "693    0\n",
       "672    0\n",
       "664    0\n",
       "478    0\n",
       "      ..\n",
       "545    0\n",
       "416    0\n",
       "208    0\n",
       "44     0\n",
       "563    0\n",
       "Name: label_bool, Length: 276, dtype: int64"
      ]
     },
     "execution_count": 243,
     "metadata": {},
     "output_type": "execute_result"
    }
   ],
   "source": [
    "errors = abs(predictions - y_test)\n",
    "errors "
   ]
  },
  {
   "cell_type": "code",
   "execution_count": 248,
   "metadata": {},
   "outputs": [
    {
     "name": "stdout",
     "output_type": "stream",
     "text": [
      "Точность модели на обучающей выборке:  1.0\n",
      "Точность модели на тестовой выборке:  0.68\n"
     ]
    }
   ],
   "source": [
    "rf_train_accuracy = rf_model.score(X_train, y_train)\n",
    "rf_test_accuracy = rf_model.score(X_test, y_test)\n",
    "print ('Точность модели на обучающей выборке: ', round (rf_train_accuracy, 2))\n",
    "print ('Точность модели на тестовой выборке: ', round (rf_test_accuracy, 2))"
   ]
  },
  {
   "cell_type": "code",
   "execution_count": null,
   "metadata": {},
   "outputs": [],
   "source": [
    "делаю рендомфорест на пцашных данных"
   ]
  },
  {
   "cell_type": "code",
   "execution_count": null,
   "metadata": {},
   "outputs": [],
   "source": []
  }
 ],
 "metadata": {
  "colab": {
   "provenance": []
  },
  "kernelspec": {
   "display_name": "Python 3 (ipykernel)",
   "language": "python",
   "name": "python3"
  },
  "language_info": {
   "codemirror_mode": {
    "name": "ipython",
    "version": 3
   },
   "file_extension": ".py",
   "mimetype": "text/x-python",
   "name": "python",
   "nbconvert_exporter": "python",
   "pygments_lexer": "ipython3",
   "version": "3.9.12"
  }
 },
 "nbformat": 4,
 "nbformat_minor": 4
}
